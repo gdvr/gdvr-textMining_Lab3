{
 "cells": [
  {
   "cell_type": "code",
   "execution_count": 4,
   "id": "0f8ccfe7-6f64-4e77-8fc2-29a3c2b8bba4",
   "metadata": {
    "tags": []
   },
   "outputs": [],
   "source": [
    "import pandas as pd\n",
    "\n",
    "FILE_NAME = 'tw_source.csv'\n",
    "colnames=['timestamp', 'date', 'query', 'user', 'text'] "
   ]
  },
  {
   "cell_type": "code",
   "execution_count": 8,
   "id": "7d854328-9d5c-4ebd-8d8a-6b93ab6ed261",
   "metadata": {
    "tags": []
   },
   "outputs": [
    {
     "name": "stdout",
     "output_type": "stream",
     "text": [
      "Reading file: tw_source.csv\n",
      "Dimensions of the dataframe: (1600000, 5)\n"
     ]
    }
   ],
   "source": [
    "print(f\"Reading file: {FILE_NAME}\")\n",
    "df_file = pd.read_csv(FILE_NAME,  names=colnames, header=None, encoding='ISO-8859-1')\n",
    "print(f\"Dimensions of the dataframe: {df_file.shape}\")"
   ]
  },
  {
   "cell_type": "code",
   "execution_count": 9,
   "id": "ffed7021-2862-4444-bb3a-dca60c509f58",
   "metadata": {
    "tags": []
   },
   "outputs": [
    {
     "data": {
      "text/html": [
       "<div>\n",
       "<style scoped>\n",
       "    .dataframe tbody tr th:only-of-type {\n",
       "        vertical-align: middle;\n",
       "    }\n",
       "\n",
       "    .dataframe tbody tr th {\n",
       "        vertical-align: top;\n",
       "    }\n",
       "\n",
       "    .dataframe thead th {\n",
       "        text-align: right;\n",
       "    }\n",
       "</style>\n",
       "<table border=\"1\" class=\"dataframe\">\n",
       "  <thead>\n",
       "    <tr style=\"text-align: right;\">\n",
       "      <th></th>\n",
       "      <th>timestamp</th>\n",
       "      <th>date</th>\n",
       "      <th>query</th>\n",
       "      <th>user</th>\n",
       "      <th>text</th>\n",
       "    </tr>\n",
       "  </thead>\n",
       "  <tbody>\n",
       "    <tr>\n",
       "      <th>0</th>\n",
       "      <td>1467810369</td>\n",
       "      <td>Mon Apr 06 22:19:45 PDT 2009</td>\n",
       "      <td>NO_QUERY</td>\n",
       "      <td>_TheSpecialOne_</td>\n",
       "      <td>@switchfoot http://twitpic.com/2y1zl - Awww, t...</td>\n",
       "    </tr>\n",
       "    <tr>\n",
       "      <th>0</th>\n",
       "      <td>1467810672</td>\n",
       "      <td>Mon Apr 06 22:19:49 PDT 2009</td>\n",
       "      <td>NO_QUERY</td>\n",
       "      <td>scotthamilton</td>\n",
       "      <td>is upset that he can't update his Facebook by ...</td>\n",
       "    </tr>\n",
       "    <tr>\n",
       "      <th>0</th>\n",
       "      <td>1467810917</td>\n",
       "      <td>Mon Apr 06 22:19:53 PDT 2009</td>\n",
       "      <td>NO_QUERY</td>\n",
       "      <td>mattycus</td>\n",
       "      <td>@Kenichan I dived many times for the ball. Man...</td>\n",
       "    </tr>\n",
       "    <tr>\n",
       "      <th>0</th>\n",
       "      <td>1467811184</td>\n",
       "      <td>Mon Apr 06 22:19:57 PDT 2009</td>\n",
       "      <td>NO_QUERY</td>\n",
       "      <td>ElleCTF</td>\n",
       "      <td>my whole body feels itchy and like its on fire</td>\n",
       "    </tr>\n",
       "    <tr>\n",
       "      <th>0</th>\n",
       "      <td>1467811193</td>\n",
       "      <td>Mon Apr 06 22:19:57 PDT 2009</td>\n",
       "      <td>NO_QUERY</td>\n",
       "      <td>Karoli</td>\n",
       "      <td>@nationwideclass no, it's not behaving at all....</td>\n",
       "    </tr>\n",
       "  </tbody>\n",
       "</table>\n",
       "</div>"
      ],
      "text/plain": [
       "    timestamp                          date     query             user  \\\n",
       "0  1467810369  Mon Apr 06 22:19:45 PDT 2009  NO_QUERY  _TheSpecialOne_   \n",
       "0  1467810672  Mon Apr 06 22:19:49 PDT 2009  NO_QUERY    scotthamilton   \n",
       "0  1467810917  Mon Apr 06 22:19:53 PDT 2009  NO_QUERY         mattycus   \n",
       "0  1467811184  Mon Apr 06 22:19:57 PDT 2009  NO_QUERY          ElleCTF   \n",
       "0  1467811193  Mon Apr 06 22:19:57 PDT 2009  NO_QUERY           Karoli   \n",
       "\n",
       "                                                text  \n",
       "0  @switchfoot http://twitpic.com/2y1zl - Awww, t...  \n",
       "0  is upset that he can't update his Facebook by ...  \n",
       "0  @Kenichan I dived many times for the ball. Man...  \n",
       "0    my whole body feels itchy and like its on fire   \n",
       "0  @nationwideclass no, it's not behaving at all....  "
      ]
     },
     "execution_count": 9,
     "metadata": {},
     "output_type": "execute_result"
    }
   ],
   "source": [
    "df_file.head()"
   ]
  },
  {
   "cell_type": "code",
   "execution_count": 11,
   "id": "a6d9d24e-841b-42f0-b058-cda3a1fd7fff",
   "metadata": {
    "tags": []
   },
   "outputs": [
    {
     "data": {
      "text/html": [
       "<div>\n",
       "<style scoped>\n",
       "    .dataframe tbody tr th:only-of-type {\n",
       "        vertical-align: middle;\n",
       "    }\n",
       "\n",
       "    .dataframe tbody tr th {\n",
       "        vertical-align: top;\n",
       "    }\n",
       "\n",
       "    .dataframe thead th {\n",
       "        text-align: right;\n",
       "    }\n",
       "</style>\n",
       "<table border=\"1\" class=\"dataframe\">\n",
       "  <thead>\n",
       "    <tr style=\"text-align: right;\">\n",
       "      <th></th>\n",
       "      <th>timestamp</th>\n",
       "    </tr>\n",
       "  </thead>\n",
       "  <tbody>\n",
       "    <tr>\n",
       "      <th>count</th>\n",
       "      <td>1.600000e+06</td>\n",
       "    </tr>\n",
       "    <tr>\n",
       "      <th>mean</th>\n",
       "      <td>1.998818e+09</td>\n",
       "    </tr>\n",
       "    <tr>\n",
       "      <th>std</th>\n",
       "      <td>1.935761e+08</td>\n",
       "    </tr>\n",
       "    <tr>\n",
       "      <th>min</th>\n",
       "      <td>1.467810e+09</td>\n",
       "    </tr>\n",
       "    <tr>\n",
       "      <th>25%</th>\n",
       "      <td>1.956916e+09</td>\n",
       "    </tr>\n",
       "    <tr>\n",
       "      <th>50%</th>\n",
       "      <td>2.002102e+09</td>\n",
       "    </tr>\n",
       "    <tr>\n",
       "      <th>75%</th>\n",
       "      <td>2.177059e+09</td>\n",
       "    </tr>\n",
       "    <tr>\n",
       "      <th>max</th>\n",
       "      <td>2.329206e+09</td>\n",
       "    </tr>\n",
       "  </tbody>\n",
       "</table>\n",
       "</div>"
      ],
      "text/plain": [
       "          timestamp\n",
       "count  1.600000e+06\n",
       "mean   1.998818e+09\n",
       "std    1.935761e+08\n",
       "min    1.467810e+09\n",
       "25%    1.956916e+09\n",
       "50%    2.002102e+09\n",
       "75%    2.177059e+09\n",
       "max    2.329206e+09"
      ]
     },
     "execution_count": 11,
     "metadata": {},
     "output_type": "execute_result"
    }
   ],
   "source": [
    "df_file.describe()"
   ]
  },
  {
   "cell_type": "code",
   "execution_count": 20,
   "id": "dc527374-85ac-40fa-bbc6-0b6ff2c013c0",
   "metadata": {
    "tags": []
   },
   "outputs": [
    {
     "data": {
      "text/plain": [
       "Series([], Name: text, dtype: object)"
      ]
     },
     "execution_count": 20,
     "metadata": {},
     "output_type": "execute_result"
    }
   ],
   "source": [
    "df_file[df_file[\"user\"] == \"scotthamilton\"][\"text\"]"
   ]
  },
  {
   "cell_type": "code",
   "execution_count": 18,
   "id": "29075cf1-2472-4122-a647-991b5858780e",
   "metadata": {},
   "outputs": [
    {
     "name": "stdout",
     "output_type": "stream",
     "text": [
      "               user                                               text  \\\n",
      "0   _TheSpecialOne_  @switchfoot http://twitpic.com/2y1zl - Awww, t...   \n",
      "0     scotthamilton  is upset that he can't update his Facebook by ...   \n",
      "0          mattycus  @Kenichan I dived many times for the ball. Man...   \n",
      "0           ElleCTF    my whole body feels itchy and like its on fire    \n",
      "0            Karoli  @nationwideclass no, it's not behaving at all....   \n",
      "..              ...                                                ...   \n",
      "4   AmandaMarie1028  Just woke up. Having no school is the best fee...   \n",
      "4       TheWDBoards  TheWDB.com - Very cool to hear old Walt interv...   \n",
      "4            bpbabe  Are you ready for your MoJo Makeover? Ask me f...   \n",
      "4      tinydiamondz  Happy 38th Birthday to my boo of alll time!!! ...   \n",
      "4    RyanTrevMorris  happy #charitytuesday @theNSPCC @SparksCharity...   \n",
      "\n",
      "    text_length  \n",
      "0           115  \n",
      "0           111  \n",
      "0            89  \n",
      "0            47  \n",
      "0           111  \n",
      "..          ...  \n",
      "4            56  \n",
      "4            78  \n",
      "4            57  \n",
      "4            65  \n",
      "4            62  \n",
      "\n",
      "[1600000 rows x 3 columns]\n"
     ]
    }
   ],
   "source": [
    "df_file['text_length'] = df_file['text'].apply(len)\n",
    "print(df_file[['user', 'text', 'text_length']])"
   ]
  },
  {
   "cell_type": "code",
   "execution_count": 21,
   "id": "3ebe836c-9fe2-44cd-b75f-1b6d817efdc1",
   "metadata": {
    "tags": []
   },
   "outputs": [],
   "source": [
    "df_file.head(1000).to_csv('filtered_file.csv', index=False)"
   ]
  },
  {
   "cell_type": "code",
   "execution_count": 23,
   "id": "23864663-2d06-448b-89eb-4ec43761aab7",
   "metadata": {
    "tags": []
   },
   "outputs": [
    {
     "name": "stdout",
     "output_type": "stream",
     "text": [
      "               user                                               text  \\\n",
      "0   _TheSpecialOne_  @switchfoot http://twitpic.com/2y1zl - Awww, t...   \n",
      "0          mattycus  @Kenichan I dived many times for the ball. Man...   \n",
      "0            Karoli  @nationwideclass no, it's not behaving at all....   \n",
      "0          joy_wolf                      @Kwesidei not the whole crew    \n",
      "0              coZZ  @LOLTrish hey  long time no see! Yes.. Rains a...   \n",
      "..              ...                                                ...   \n",
      "4         jazzstixx                 @Ms_Hip_Hop im glad ur doing well    \n",
      "4         AgustinaP  @rmedina @LaTati Mmmm  That sounds absolutely ...   \n",
      "4       ChloeAmisha                                  @SCOOBY_GRITBOYS    \n",
      "4         EvolveTom  @Cliff_Forster Yeah, that does work better tha...   \n",
      "4    RyanTrevMorris  happy #charitytuesday @theNSPCC @SparksCharity...   \n",
      "\n",
      "            username  \n",
      "0        @switchfoot  \n",
      "0          @Kenichan  \n",
      "0   @nationwideclass  \n",
      "0          @Kwesidei  \n",
      "0          @LOLTrish  \n",
      "..               ...  \n",
      "4        @Ms_Hip_Hop  \n",
      "4           @rmedina  \n",
      "4   @SCOOBY_GRITBOYS  \n",
      "4     @Cliff_Forster  \n",
      "4          @theNSPCC  \n",
      "\n",
      "[738493 rows x 3 columns]\n"
     ]
    },
    {
     "name": "stderr",
     "output_type": "stream",
     "text": [
      "C:\\Users\\gerda\\AppData\\Local\\Temp\\ipykernel_21476\\812061584.py:2: SettingWithCopyWarning: \n",
      "A value is trying to be set on a copy of a slice from a DataFrame.\n",
      "Try using .loc[row_indexer,col_indexer] = value instead\n",
      "\n",
      "See the caveats in the documentation: https://pandas.pydata.org/pandas-docs/stable/user_guide/indexing.html#returning-a-view-versus-a-copy\n",
      "  mentions_df['username'] = mentions_df['text'].str.extract(r'(@\\w+)')\n"
     ]
    }
   ],
   "source": [
    "mentions_df = df_file[df_file['text'].str.contains(r'@\\w+', na=False)]\n",
    "mentions_df['username'] = mentions_df['text'].str.extract(r'(@\\w+)')\n",
    "\n",
    "# Display the DataFrame with the extracted usernames\n",
    "print(mentions_df[['user', 'text', 'username']])"
   ]
  },
  {
   "cell_type": "code",
   "execution_count": 24,
   "id": "fb3e1d6e-1594-4076-8a73-444fd7dc8669",
   "metadata": {
    "tags": []
   },
   "outputs": [
    {
     "name": "stdout",
     "output_type": "stream",
     "text": [
      "username\n",
      "@mileycyrus         4310\n",
      "@tommcfly           3767\n",
      "@ddlovato           3259\n",
      "@DavidArchie        1245\n",
      "@Jonasbrothers      1238\n",
      "@DonnieWahlberg     1054\n",
      "@jordanknight       1046\n",
      "@mitchelmusso       1031\n",
      "@JonathanRKnight    1000\n",
      "@taylorswift13       966\n",
      "Name: count, dtype: int64\n"
     ]
    }
   ],
   "source": [
    "# Group by the 'username' column and count occurrences\n",
    "top_mentions = mentions_df['username'].value_counts().head(10)\n",
    "\n",
    "# Display the top 10 most mentioned usernames\n",
    "print(top_mentions)"
   ]
  },
  {
   "cell_type": "code",
   "execution_count": 30,
   "id": "673cf726-8b95-46e8-ad1b-e3bc3ce0c16e",
   "metadata": {
    "tags": []
   },
   "outputs": [
    {
     "data": {
      "text/plain": [
       "Index(['@mileycyrus', '@tommcfly', '@ddlovato'], dtype='object', name='username')"
      ]
     },
     "execution_count": 30,
     "metadata": {},
     "output_type": "execute_result"
    }
   ],
   "source": [
    "top_mentions[0:3].index"
   ]
  },
  {
   "cell_type": "code",
   "execution_count": 31,
   "id": "a5e39a3f-4028-4414-b96d-f2ad410ec36b",
   "metadata": {
    "tags": []
   },
   "outputs": [
    {
     "name": "stdout",
     "output_type": "stream",
     "text": [
      "               user                                               text  \\\n",
      "0    DdubsShellBell  @JonathanRKnight Awww I soo wish I was there t...   \n",
      "0   JenniOnTheBlock        @JonathanRKnight I guess that's a no then.    \n",
      "0          Jana1976  @JonathanRKnight I hate the limited letters,to...   \n",
      "0      MTLarson1224  @DonnieWahlberg I hope i can make it to the au...   \n",
      "0       flowerlilly  @DonnieWahlberg ooh Iï¿½m excited and not even...   \n",
      "..              ...                                                ...   \n",
      "4           pauwlo7  @mileycyrus  well  hello miley  hows life as a...   \n",
      "4         Saraaah_A  @ddlovato i just voted for you and i've drawn ...   \n",
      "4         AmieNKOTB  @DonnieWahlberg We will totally hold ya'll to ...   \n",
      "4         megsmegss  @Jonasbrothers best lyrics on the album= i sta...   \n",
      "4        Marianne_P                    wants the @Jonasbrothers album    \n",
      "\n",
      "            username  \n",
      "0   @JonathanRKnight  \n",
      "0   @JonathanRKnight  \n",
      "0   @JonathanRKnight  \n",
      "0    @DonnieWahlberg  \n",
      "0    @DonnieWahlberg  \n",
      "..               ...  \n",
      "4        @mileycyrus  \n",
      "4          @ddlovato  \n",
      "4    @DonnieWahlberg  \n",
      "4     @Jonasbrothers  \n",
      "4     @Jonasbrothers  \n",
      "\n",
      "[18916 rows x 3 columns]\n"
     ]
    }
   ],
   "source": [
    "# Filter the DataFrame where 'username' is one of the top 10\n",
    "filtered_top_mentions = mentions_df[mentions_df['username'].isin(top_mentions.index)]\n",
    "\n",
    "# Display the filtered DataFrame\n",
    "print(filtered_top_mentions[['user', 'text', 'username']])"
   ]
  },
  {
   "cell_type": "code",
   "execution_count": 34,
   "id": "8c3ec0f6-d11b-4c6b-95c8-407b52d731cc",
   "metadata": {
    "tags": []
   },
   "outputs": [
    {
     "ename": "SyntaxError",
     "evalue": "incomplete input (3699066377.py, line 1)",
     "output_type": "error",
     "traceback": [
      "\u001b[1;36m  Cell \u001b[1;32mIn[34], line 1\u001b[1;36m\u001b[0m\n\u001b[1;33m    ' '.join(mentions_df[mentions_df['username'] == '@mileycyrus']['text']\u001b[0m\n\u001b[1;37m                                                                          ^\u001b[0m\n\u001b[1;31mSyntaxError\u001b[0m\u001b[1;31m:\u001b[0m incomplete input\n"
     ]
    }
   ],
   "source": [
    "' '.join(mentions_df[mentions_df['username'] == '@mileycyrus']['text']"
   ]
  },
  {
   "cell_type": "code",
   "execution_count": null,
   "id": "901b8164-22d5-425a-81a3-baa211c944df",
   "metadata": {},
   "outputs": [],
   "source": []
  }
 ],
 "metadata": {
  "kernelspec": {
   "display_name": "Python 3 (ipykernel)",
   "language": "python",
   "name": "python3"
  },
  "language_info": {
   "codemirror_mode": {
    "name": "ipython",
    "version": 3
   },
   "file_extension": ".py",
   "mimetype": "text/x-python",
   "name": "python",
   "nbconvert_exporter": "python",
   "pygments_lexer": "ipython3",
   "version": "3.11.5"
  }
 },
 "nbformat": 4,
 "nbformat_minor": 5
}
