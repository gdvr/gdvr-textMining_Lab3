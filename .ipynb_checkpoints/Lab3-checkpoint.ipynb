{
 "cells": [
  {
   "cell_type": "markdown",
   "id": "e688fb15-2ec1-4531-b0d4-b526f912bdf8",
   "metadata": {
    "tags": []
   },
   "source": [
    "# Problema 1"
   ]
  },
  {
   "cell_type": "code",
   "execution_count": 5,
   "id": "212d25b3-4f36-4f70-8acc-d8bc1cdb17ce",
   "metadata": {
    "tags": []
   },
   "outputs": [],
   "source": [
    "import re\n",
    "\n",
    "def checkRegularExpression(regex, input):\n",
    "    return re.match(regex, input)"
   ]
  },
  {
   "cell_type": "markdown",
   "id": "3882ebb5-f8ec-441e-b21f-d299543570e1",
   "metadata": {},
   "source": [
    "## Problema 1"
   ]
  },
  {
   "cell_type": "code",
   "execution_count": 6,
   "id": "1beb9342-5810-4257-92c8-4c3d0765085a",
   "metadata": {
    "tags": []
   },
   "outputs": [
    {
     "name": "stdout",
     "output_type": "stream",
     "text": [
      "Guate.360-porelmundo@miguate.com: Valid\n",
      "Miercoles3@hotmail.com: Valid\n",
      "Progra3.galileo@galileo.edu: Valid\n",
      "invalid-email@com: Invalid\n",
      "another.invalid@.com: Invalid\n"
     ]
    }
   ],
   "source": [
    "emails = [\n",
    "    \"Guate.360-porelmundo@miguate.com\",\n",
    "    \"Miercoles3@hotmail.com\",\n",
    "    \"Progra3.galileo@galileo.edu\",\n",
    "    \"invalid-email@com\",  # Invalid email\n",
    "    \"another.invalid@.com\"  # Invalid email\n",
    "]\n",
    "email_regex = r\"^[a-zA-Z0-9_.+-]+@[a-zA-Z0-9-]+\\.[a-zA-Z0-9-.]+$\"\n",
    "\n",
    "for email in emails:\n",
    "    print(f\"{email}: {'Valid' if checkRegularExpression(email_regex,email) else 'Invalid'}\")"
   ]
  },
  {
   "cell_type": "markdown",
   "id": "cb8021c0-e67c-4b05-b65c-2e0880e1acf9",
   "metadata": {},
   "source": [
    "## Problema 2"
   ]
  },
  {
   "cell_type": "code",
   "execution_count": 12,
   "id": "d29607d5-a1fe-4709-8c07-955c10598022",
   "metadata": {
    "tags": []
   },
   "outputs": [
    {
     "name": "stdout",
     "output_type": "stream",
     "text": [
      "https://www.guate360-porelmundo.com: Valid\n",
      "http://www.a2.net: Invalid\n",
      "https://www.galileo.edu: Valid\n",
      "http://www.8.org: Invalid\n",
      "http://www.test.org: Valid\n"
     ]
    }
   ],
   "source": [
    "urls = [\n",
    "    \"https://www.guate360-porelmundo.com\",\n",
    "    \"http://www.a2.net\",  # No es .com, .org, or .edu\n",
    "    \"https://www.galileo.edu\",\n",
    "    \"http://www.8.org\",   # Comienza con digito\n",
    "    \"http://www.test.org\"\n",
    "]\n",
    "url_regex = r\"^https?://www\\.[a-zA-Z][a-zA-Z0-9-]*\\.(com|org|edu)$\"\n",
    "\n",
    "for url in urls:\n",
    "    print(f\"{url}: {'Valid' if checkRegularExpression(url_regex,url) else 'Invalid'}\")"
   ]
  },
  {
   "cell_type": "markdown",
   "id": "9b9a4588-c037-4349-8f66-e215c87952b0",
   "metadata": {},
   "source": [
    "## Problema 3"
   ]
  },
  {
   "cell_type": "code",
   "execution_count": 21,
   "id": "e0cb92c7-3be8-497a-a16c-7ad54a65de5f",
   "metadata": {
    "tags": []
   },
   "outputs": [
    {
     "name": "stdout",
     "output_type": "stream",
     "text": [
      "5A 6F AF 8C 9B 1D: Valid\n",
      "6D 6C 4D 3A EB 3F: Valid\n",
      "3A 7C FA C8 6D 4J: Invalid\n",
      "3A7C FA C8 6D 4J: Invalid\n",
      "AA BB CC DD EE FF: Valid\n"
     ]
    }
   ],
   "source": [
    "mac_addresses = [\n",
    "    \"5A 6F AF 8C 9B 1D\",  \n",
    "    \"6D 6C 4D 3A EB 3F\", \n",
    "    \"3A 7C FA C8 6D 4J\",  # Contiene 'J'\n",
    "    \"3A7C FA C8 6D 4J\",   # Hay un espacio que no se inserto\n",
    "    \"AA BB CC DD EE FF\"   \n",
    "]\n",
    "mac_regex = r\"^([0-9A-F]{2} ){5}[0-9A-F]{2}$\"\n",
    "\n",
    "for mac in mac_addresses:\n",
    "    print(f\"{mac}: {'Valid' if checkRegularExpression(mac_regex,mac) else 'Invalid'}\")\n"
   ]
  },
  {
   "cell_type": "markdown",
   "id": "8d203d70-7c98-4d5a-95ea-41242626efb7",
   "metadata": {},
   "source": [
    "## Problema 4"
   ]
  },
  {
   "cell_type": "code",
   "execution_count": 18,
   "id": "b48b9c91-b240-414b-901f-55437f91b1dd",
   "metadata": {
    "tags": []
   },
   "outputs": [
    {
     "name": "stdout",
     "output_type": "stream",
     "text": [
      "192.16.8.1: Valid\n",
      "234.56.78.90: Valid\n",
      "1.2.3.4: Valid\n",
      "192.168.45.345: Invalid\n",
      "256.100.50.25: Invalid\n"
     ]
    }
   ],
   "source": [
    "ipv4_addresses = [\n",
    "    \"192.16.8.1\",        \n",
    "    \"234.56.78.90\",      \n",
    "    \"1.2.3.4\",           \n",
    "    \"192.168.45.345\",    # 345 esta fiuera de rango\n",
    "    \"256.100.50.25\",     # 256 esta fiuera de rango\n",
    "]\n",
    "ipv4_regex = r\"^((25[0-5]|2[0-4][0-9]|[01]?[0-9][0-9]?)\\.){3}(25[0-5]|2[0-4][0-9]|[01]?[0-9][0-9]?)$\"\n",
    "\n",
    "for ip in ipv4_addresses:\n",
    "    print(f\"{ip}: {'Valid' if checkRegularExpression(ipv4_regex,ip) else 'Invalid'}\")"
   ]
  },
  {
   "cell_type": "markdown",
   "id": "0cdb437c-79b6-4e92-976a-7c9d885de972",
   "metadata": {},
   "source": [
    "## Problema 5"
   ]
  },
  {
   "cell_type": "code",
   "execution_count": 22,
   "id": "09eaf086-1d00-42ec-9f1f-741601da113d",
   "metadata": {
    "tags": []
   },
   "outputs": [
    {
     "name": "stdout",
     "output_type": "stream",
     "text": [
      "1/20/2019: Invalid\n",
      "03/12/2005: Valid\n",
      "11-31-08: Invalid\n",
      "1-1-2012: Valid\n",
      "12-12-22: Invalid\n",
      "31-04-2010: Valid\n",
      "32-01-2010: Invalid\n"
     ]
    }
   ],
   "source": [
    "dates = [\n",
    "    \"1/20/2019\",   \n",
    "    \"03/12/2005\",  \n",
    "    \"11-31-08\",     \n",
    "    \"1-1-2012\",     \n",
    "    \"12-12-22\",     # Año mayor a 2019\n",
    "    \"31-04-2010\",   # Valida aunque no exista la fecha 31 de abril\n",
    "    \"32-01-2010\"    # Dia mayor a 31\n",
    "]\n",
    "\n",
    "date_regex =  r\"^(0?[1-9]|[12][0-9]|3[01])[-/.](0?[1-9]|1[0-2])[-/.]((200[0-9]|201[0-9])|(0[0-9]|[1][0-9]))$\"\n",
    "\n",
    "for date in dates:\n",
    "    print(f\"{date}: {'Valid' if checkRegularExpression(date_regex,date) else 'Invalid'}\")"
   ]
  },
  {
   "cell_type": "markdown",
   "id": "70a25d28-332c-4142-b124-2a716196b8fe",
   "metadata": {},
   "source": [
    "# Problema 2"
   ]
  },
  {
   "cell_type": "code",
   "execution_count": 52,
   "id": "ce77ccbc-d922-4800-ad45-fb3e29852c8c",
   "metadata": {
    "tags": []
   },
   "outputs": [],
   "source": [
    "import os\n",
    "import glob\n",
    "import pandas as pd\n",
    "import re\n",
    "from statistics import mean\n",
    "\n",
    "#Valores que permiten hacer el mapeo de cadena a numero\n",
    "MONTH_MAPPING = {\n",
    "        \"jan\": 1, \"january\": 1,\n",
    "        \"feb\": 2, \"february\": 2,\n",
    "        \"mar\": 3, \"march\": 3,\n",
    "        \"apr\": 4, \"april\": 4,\n",
    "        \"may\": 5,\n",
    "        \"jun\": 6, \"june\": 6,\n",
    "        \"jul\": 7, \"july\": 7,\n",
    "        \"aug\": 8, \"august\": 8,\n",
    "        \"sep\": 9, \"september\": 9,\n",
    "        \"oct\": 10, \"october\": 10,\n",
    "        \"nov\": 11, \"november\": 11,\n",
    "        \"dec\": 12, \"december\": 12\n",
    "    }\n",
    "\n",
    "def find_files_with_extension(extension, parent_dir = None):\n",
    "    if not extension.startswith('.'):\n",
    "        extension = '.' + extension    \n",
    "    current_dir = os.getcwd()\n",
    "    search_pattern = os.path.join(current_dir, f'*{extension}') if parent_dir == None else  os.path.join(f\"{current_dir}/{parent_dir}\", f'*{extension}')     \n",
    "    files = glob.glob(search_pattern)    \n",
    "    return files\n",
    "\n",
    "def normalize_date(date_str):\n",
    "    date_pattern = r\"(\\d{1,2})[-/.](\\d{1,2}|[a-zA-Z]{3,9})[-/.](\\d{2,4})\"\n",
    "    match = re.match(date_pattern, date_str, re.IGNORECASE) #omitimos la distincion entre mayusculas y minusculas\n",
    "\n",
    "    if not match:\n",
    "        print(f\"No match for: {date_str}\")\n",
    "        return None\n",
    "    \n",
    "    day, month, year = match.groups()\n",
    "    \n",
    "    if month.isdigit():\n",
    "        month = int(month)\n",
    "    else:\n",
    "        month = MONTH_MAPPING.get(month.lower(), None)\n",
    "    \n",
    "    if len(year) == 2:\n",
    "        year = 2000 + int(year)\n",
    "    else:\n",
    "        year = int(year)\n",
    "    \n",
    "    return day, month, year\n",
    "\n",
    "def calculate_averages(dates):\n",
    "    days = []\n",
    "    months = []\n",
    "    years = []\n",
    "    \n",
    "    for date_str in dates:\n",
    "        normalized = normalize_date(date_str)\n",
    "        if normalized:\n",
    "            day, month, year = normalized\n",
    "            days.append(int(day))\n",
    "            months.append(int(month))\n",
    "            years.append(year)\n",
    "    \n",
    "\n",
    "    average_day = mean(days) if days else None\n",
    "    average_month = mean(months) if months else None\n",
    "    average_year = mean(years) if years else None\n",
    "    \n",
    "    return average_day, average_month, average_year\n"
   ]
  },
  {
   "cell_type": "code",
   "execution_count": 53,
   "id": "a08f768f-8c7f-4eaa-b401-64447607327d",
   "metadata": {
    "tags": []
   },
   "outputs": [
    {
     "name": "stdout",
     "output_type": "stream",
     "text": [
      "Reading file: C:\\Users\\gerda\\Documents\\Maestria\\Text Mining & Image Recognition\\gdvr-textMining_Lab3/Datos\\D1.txt\n",
      "Reading file: C:\\Users\\gerda\\Documents\\Maestria\\Text Mining & Image Recognition\\gdvr-textMining_Lab3/Datos\\D10.txt\n",
      "Reading file: C:\\Users\\gerda\\Documents\\Maestria\\Text Mining & Image Recognition\\gdvr-textMining_Lab3/Datos\\D11.txt\n",
      "Reading file: C:\\Users\\gerda\\Documents\\Maestria\\Text Mining & Image Recognition\\gdvr-textMining_Lab3/Datos\\D12.txt\n",
      "Reading file: C:\\Users\\gerda\\Documents\\Maestria\\Text Mining & Image Recognition\\gdvr-textMining_Lab3/Datos\\D13.txt\n",
      "Reading file: C:\\Users\\gerda\\Documents\\Maestria\\Text Mining & Image Recognition\\gdvr-textMining_Lab3/Datos\\D14.txt\n",
      "Reading file: C:\\Users\\gerda\\Documents\\Maestria\\Text Mining & Image Recognition\\gdvr-textMining_Lab3/Datos\\D15.txt\n",
      "Reading file: C:\\Users\\gerda\\Documents\\Maestria\\Text Mining & Image Recognition\\gdvr-textMining_Lab3/Datos\\D16.txt\n",
      "Reading file: C:\\Users\\gerda\\Documents\\Maestria\\Text Mining & Image Recognition\\gdvr-textMining_Lab3/Datos\\D17.txt\n",
      "Reading file: C:\\Users\\gerda\\Documents\\Maestria\\Text Mining & Image Recognition\\gdvr-textMining_Lab3/Datos\\D18.txt\n",
      "Reading file: C:\\Users\\gerda\\Documents\\Maestria\\Text Mining & Image Recognition\\gdvr-textMining_Lab3/Datos\\D19.txt\n",
      "Reading file: C:\\Users\\gerda\\Documents\\Maestria\\Text Mining & Image Recognition\\gdvr-textMining_Lab3/Datos\\D2.txt\n",
      "Reading file: C:\\Users\\gerda\\Documents\\Maestria\\Text Mining & Image Recognition\\gdvr-textMining_Lab3/Datos\\D20.txt\n",
      "Reading file: C:\\Users\\gerda\\Documents\\Maestria\\Text Mining & Image Recognition\\gdvr-textMining_Lab3/Datos\\D21.txt\n",
      "Reading file: C:\\Users\\gerda\\Documents\\Maestria\\Text Mining & Image Recognition\\gdvr-textMining_Lab3/Datos\\D3.txt\n",
      "Reading file: C:\\Users\\gerda\\Documents\\Maestria\\Text Mining & Image Recognition\\gdvr-textMining_Lab3/Datos\\D4.txt\n",
      "Reading file: C:\\Users\\gerda\\Documents\\Maestria\\Text Mining & Image Recognition\\gdvr-textMining_Lab3/Datos\\D5.txt\n",
      "Reading file: C:\\Users\\gerda\\Documents\\Maestria\\Text Mining & Image Recognition\\gdvr-textMining_Lab3/Datos\\D6.txt\n",
      "Reading file: C:\\Users\\gerda\\Documents\\Maestria\\Text Mining & Image Recognition\\gdvr-textMining_Lab3/Datos\\D7.txt\n",
      "Reading file: C:\\Users\\gerda\\Documents\\Maestria\\Text Mining & Image Recognition\\gdvr-textMining_Lab3/Datos\\D8.txt\n",
      "Reading file: C:\\Users\\gerda\\Documents\\Maestria\\Text Mining & Image Recognition\\gdvr-textMining_Lab3/Datos\\D9.txt\n"
     ]
    },
    {
     "data": {
      "text/plain": [
       "21000"
      ]
     },
     "execution_count": 53,
     "metadata": {},
     "output_type": "execute_result"
    }
   ],
   "source": [
    "files = find_files_with_extension(\"txt\",\"Datos\")\n",
    "dates = []\n",
    "\n",
    "for file in files:\n",
    "    print(f\"Reading file: {file}\")\n",
    "    with open(file, 'r', encoding='utf-8-sig') as fileContent:\n",
    "        content = fileContent.read()\n",
    "        if content.startswith('\\ufeff'):\n",
    "            content = content[1:]            \n",
    "        parsedDates = [line for line in content.split(\"\\n\") if line.strip()]\n",
    "        dates.extend(parsedDates)\n",
    "        \n",
    "len(dates)"
   ]
  },
  {
   "cell_type": "code",
   "execution_count": 54,
   "id": "94c04b0d-f39c-4777-b215-d966c75c1fd6",
   "metadata": {
    "tags": []
   },
   "outputs": [
    {
     "name": "stdout",
     "output_type": "stream",
     "text": [
      "Average Day: 15.62\n",
      "Average Month: 6.47\n",
      "Average Year: 2016.69\n"
     ]
    }
   ],
   "source": [
    "\n",
    "\n",
    "average_day, average_month, average_year = calculate_averages(dates)\n",
    "\n",
    "print(f\"Average Day: {average_day:.2f}\")\n",
    "print(f\"Average Month: {average_month:.2f}\")\n",
    "print(f\"Average Year: {average_year:.2f}\")\n"
   ]
  },
  {
   "cell_type": "code",
   "execution_count": null,
   "id": "b6be013e-19df-4c87-8e36-27c78d55e255",
   "metadata": {},
   "outputs": [],
   "source": []
  }
 ],
 "metadata": {
  "kernelspec": {
   "display_name": "Python 3 (ipykernel)",
   "language": "python",
   "name": "python3"
  },
  "language_info": {
   "codemirror_mode": {
    "name": "ipython",
    "version": 3
   },
   "file_extension": ".py",
   "mimetype": "text/x-python",
   "name": "python",
   "nbconvert_exporter": "python",
   "pygments_lexer": "ipython3",
   "version": "3.11.5"
  }
 },
 "nbformat": 4,
 "nbformat_minor": 5
}
